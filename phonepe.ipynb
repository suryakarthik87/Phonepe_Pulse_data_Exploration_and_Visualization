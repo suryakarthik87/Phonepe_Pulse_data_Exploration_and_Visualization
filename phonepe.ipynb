import os
import json
import pandas as pd
import psycopg2
import subprocess
import plotly.express as px
import streamlit as st

#Clone Repository

repo_url = "https://github.com/PhonePe/pulse.git"
clone_dir = "D:/projects/phonepe_pulse"
if not os.path.exists(clone_dir):
    subprocess.run(["git", "clone", repo_url, clone_dir])
else:
    print("Repository already cloned.")


#Aggregated Transactions

path1 = "D:/projects/phonepe_pulse/data/aggregated/transaction/country/india/state/"
agg_trans_list = os.listdir(path1)

agg_trans_columns = {"States":[], "Years":[], "Quarter":[], "Transaction_type":[], "Transaction_count":[], "Transaction_amount":[]}
for state in agg_trans_list:
    current_state = os.path.join(path1, state)
    agg_year_list = os.listdir(current_state)
    
    for year in agg_year_list:
        current_year = os.path.join(current_state, year)
        agg_file_list = os.listdir(current_year)
        
        for file in agg_file_list:
            if file.endswith('.json'):
                current_file = os.path.join(current_year, file)
                
                data = open(current_file,"r")

                file_trans_load = json.load(data)
                if file_trans_load.get('success') and file_trans_load.get('data'):
                    for i in file_trans_load["data"]["transactionData"]:
                        name = i["name"]
                        count = i["paymentInstruments"][0]["count"]
                        amount = i["paymentInstruments"][0]["amount"]
                        agg_trans_columns["Transaction_type"].append(name)
                        agg_trans_columns["Transaction_count"].append(count)
                        agg_trans_columns["Transaction_amount"].append(amount)
                        agg_trans_columns["States"].append(state)
                        agg_trans_columns["Years"].append(year)
                        agg_trans_columns["Quarter"].append(int(file.strip(".json")))


agg_trans_df = pd.DataFrame(agg_trans_columns)

agg_trans_df["States"]=agg_trans_df["States"].str.replace("andaman-&-nicobar-islands", "Andaman & Nicobar")
agg_trans_df["States"]=agg_trans_df["States"].str.replace("-", " ")
agg_trans_df["States"]=agg_trans_df["States"].str.title()
agg_trans_df["States"]=agg_trans_df["States"].str.replace("Dadra & Nagar Haveli & Daman & Diu", "Dadra and Nagar Haveli and Daman and Diu")


#Aggregated User

path2 = "D:/projects/phonepe_pulse/data/aggregated/user/country/india/state/"
agg_user_list = os.listdir(path2)

agg_user_columns = {"States":[], "Years":[], "Quarter":[], "Brands":[], "Transaction_count":[], "Percentage":[]}
for state in agg_user_list:
    current_state = os.path.join(path2, state)
    agg_year_list = os.listdir(current_state)
    
    for year in agg_year_list:
        current_year = os.path.join(current_state, year)          
        agg_file_list = os.listdir(current_year)
        
        for file in agg_file_list:
            if file.endswith('.json'):
                current_file = os.path.join(current_year, file)
                try:
                    data = open(current_file,"r")

                    file_user_load = json.load(data)
                    if file_user_load.get('success') and file_user_load.get('data'): 
                    
                        for i in file_user_load["data"]["usersByDevice"]:
                            brand = i["brand"]
                            count = i["count"]
                            percentage = i["percentage"]
                            agg_user_columns["Brands"].append(brand)
                            agg_user_columns["Transaction_count"].append(count)
                            agg_user_columns["Percentage"].append(percentage)
                            agg_user_columns["States"].append(state)
                            agg_user_columns["Years"].append(year)
                            agg_user_columns["Quarter"].append(int(file.strip(".json")))
                except:
                    pass
                

agg_user_df = pd.DataFrame(agg_user_columns)

agg_user_df["States"]=agg_user_df["States"].str.replace("andaman-&-nicobar-islands", "Andaman & Nicobar")
agg_user_df["States"]=agg_user_df["States"].str.replace("-", " ")
agg_user_df["States"]=agg_user_df["States"].str.title()
agg_user_df["States"]=agg_user_df["States"].str.replace("Dadra & Nagar Haveli & Daman & Diu", "Dadra and Nagar Haveli and Daman and Diu")



#Aggregated Insurance

path3 = "D:/projects/phonepe_pulse/data/aggregated/insurance/country/india/state/"
agg_ins_list = os.listdir(path3)

agg_ins_columns = {"States":[], "Years":[], "Quarter":[], "Transaction_type":[], "Transaction_count":[], "Transaction_amount":[]}
for state in agg_ins_list:
    current_state = os.path.join(path3, state)
    agg_year_list = os.listdir(current_state)
    
    for year in agg_year_list:
        current_year = os.path.join(current_state, year)
        agg_file_list = os.listdir(current_year)
        
        for file in agg_file_list:
            if file.endswith('.json'):
                current_file = os.path.join(current_year, file)
                data = open(current_file,"r")

            file_ins_load = json.load(data)
            if file_ins_load.get('success') and file_ins_load.get('data'):
                for i in file_ins_load["data"]["transactionData"]:
                    name = i["name"]
                    count = i["paymentInstruments"][0]["count"]
                    amount = i["paymentInstruments"][0]["amount"]
                    agg_ins_columns["Transaction_type"].append(name)
                    agg_ins_columns["Transaction_count"].append(count)
                    agg_ins_columns["Transaction_amount"].append(amount)
                    agg_ins_columns["States"].append(state)
                    agg_ins_columns["Years"].append(year)
                    agg_ins_columns["Quarter"].append(int(file.strip(".json")))

agg_ins_df = pd.DataFrame(agg_ins_columns)

agg_ins_df["States"]=agg_ins_df["States"].str.replace("andaman-&-nicobar-islands", "Andaman & Nicobar")
agg_ins_df["States"]=agg_ins_df["States"].str.replace("-", " ")
agg_ins_df["States"]=agg_ins_df["States"].str.title()
agg_ins_df["States"]=agg_ins_df["States"].str.replace("Dadra & Nagar Haveli & Daman & Diu", "Dadra and Nagar Haveli and Daman and Diu")



#Map Transaction

path4 = "D:/projects/phonepe_pulse/data/map/transaction/hover/country/india/state/"
map_trans_list = os.listdir(path4)

map_trans_columns = {"States":[], "Years":[], "Quarter":[], "Districts":[], "Transaction_count":[], "Transaction_amount":[]}
for state in map_trans_list:
    current_state = os.path.join(path4, state)
    map_year_list = os.listdir(current_state)
    
    for year in map_year_list:
        current_year = os.path.join(current_state, year)
        map_file_list = os.listdir(current_year)
        
        for file in map_file_list:
            if file.endswith('.json'):
                current_file = os.path.join(current_year, file)
                data = open(current_file,"r")
            
            file_trans_load = json.load(data)
            if file_trans_load.get('success') and file_trans_load.get('data'):
                for i in file_trans_load["data"]["hoverDataList"]:
                    name = i["name"]
                    count = i["metric"][0]["count"]
                    amount = i["metric"][0]["amount"]
                    map_trans_columns["Districts"].append(name)
                    map_trans_columns["Transaction_count"].append(count)
                    map_trans_columns["Transaction_amount"].append(amount)
                    map_trans_columns["States"].append(state)
                    map_trans_columns["Years"].append(year)
                    map_trans_columns["Quarter"].append(int(file.strip(".json")))


map_trans_df = pd.DataFrame(map_trans_columns)

map_trans_df["States"]=map_trans_df["States"].str.replace("andaman-&-nicobar-islands", "Andaman & Nicobar")
map_trans_df["States"]=map_trans_df["States"].str.replace("-", " ")
map_trans_df["States"]=map_trans_df["States"].str.title()
map_trans_df["States"]=map_trans_df["States"].str.replace("Dadra & Nagar Haveli & Daman & Diu", "Dadra and Nagar Haveli and Daman and Diu")


#Map User

path5 = "D:/projects/phonepe_pulse/data/map/user/hover/country/india/state/"
map_user_list = os.listdir(path5)

map_user_columns = {"States":[], "Years":[], "Quarter":[], "Districts":[], "RegisteredUsers":[], "AppOpens":[]}
for state in map_user_list:
    current_state = os.path.join(path5, state)
    map_year_list = os.listdir(current_state)
    
    for year in map_year_list:
        current_year = os.path.join(current_state, year)
        map_file_list = os.listdir(current_year)
        
        for file in map_file_list:
            if file.endswith('.json'):
                current_file = os.path.join(current_year, file)
                data = open(current_file,"r")

            file_user_load = json.load(data)
            if file_user_load.get('success') and file_user_load.get('data'):
                for i in file_user_load["data"]["hoverData"].items():
                    district = i[0]
                    registeredUsers = i[1]["registeredUsers"]
                    appOpens = i[1]["appOpens"]
                    map_user_columns["Districts"].append(district)
                    map_user_columns["RegisteredUsers"].append(registeredUsers)
                    map_user_columns["AppOpens"].append(appOpens)
                    map_user_columns["States"].append(state)
                    map_user_columns["Years"].append(year)
                    map_user_columns["Quarter"].append(int(file.strip(".json")))

map_user_df = pd.DataFrame(map_user_columns)

map_user_df["States"]=map_user_df["States"].str.replace("andaman-&-nicobar-islands", "Andaman & Nicobar")
map_user_df["States"]=map_user_df["States"].str.replace("-", " ")
map_user_df["States"]=map_user_df["States"].str.title()
map_user_df["States"]=map_user_df["States"].str.replace("Dadra & Nagar Haveli & Daman & Diu", "Dadra and Nagar Haveli and Daman and Diu")



#Map Insurance

path6 = "D:/projects/phonepe_pulse/data/map/insurance/hover/country/india/state/"
map_ins_list = os.listdir(path6)

map_ins_columns = {"States":[], "Years":[], "Quarter":[], "Districts":[], "Transaction_count":[], "Transaction_amount":[]}
for state in map_ins_list:
    current_state = os.path.join(path6, state)
    map_year_list = os.listdir(current_state)
    
    for year in map_year_list:
        current_year = os.path.join(current_state, year)  
        map_file_list = os.listdir(current_year)
        
        for file in map_file_list:
            if file.endswith('.json'):
                current_file = os.path.join(current_year, file) 
                data = open(current_file,"r")

            file_ins_load = json.load(data)
            if file_ins_load.get('success') and file_ins_load.get('data'):
                for i in file_ins_load["data"]["hoverDataList"]:
                    name = i["name"]
                    count = i["metric"][0]["count"]
                    amount = i["metric"][0]["amount"]
                    map_ins_columns["Districts"].append(name)
                    map_ins_columns["Transaction_count"].append(count)
                    map_ins_columns["Transaction_amount"].append(amount)
                    map_ins_columns["States"].append(state)
                    map_ins_columns["Years"].append(year)
                    map_ins_columns["Quarter"].append(int(file.strip(".json")))

map_ins_df = pd.DataFrame(map_ins_columns)

map_ins_df["States"]=map_ins_df["States"].str.replace("andaman-&-nicobar-islands", "Andaman & Nicobar")
map_ins_df["States"]=map_ins_df["States"].str.replace("-", " ")
map_ins_df["States"]=map_ins_df["States"].str.title()
map_ins_df["States"]=map_ins_df["States"].str.replace("Dadra & Nagar Haveli & Daman & Diu", "Dadra and Nagar Haveli and Daman and Diu")


#Top Insurance

path7 = "D:/projects/phonepe_pulse/data/top/insurance/country/india/state/"
top_ins_list = os.listdir(path7)

top_ins_columns = {"States":[], "Years":[], "Quarter":[], "Pincode":[], "Transaction_count":[], "Transaction_amount":[]}
for state in top_ins_list:
    current_state = os.path.join(path7, state)
    top_year_list = os.listdir(current_state)
    
    for year in top_year_list:
        current_year = os.path.join(current_state, year)   
        top_file_list = os.listdir(current_year)
        
        for file in top_file_list:
            if file.endswith('.json'):
                current_file = os.path.join(current_year, file)
                data = open(current_file,"r")

            file_ins_load = json.load(data)
            if file_ins_load.get('success') and file_ins_load.get('data'):
                for i in file_ins_load["data"]["pincodes"]:
                    entityname = i["entityName"]
                    count = i["metric"]["count"]
                    amount = i["metric"]["amount"]
                    top_ins_columns["Pincode"].append(entityname)
                    top_ins_columns["Transaction_count"].append(count)
                    top_ins_columns["Transaction_amount"].append(amount)
                    top_ins_columns["States"].append(state)
                    top_ins_columns["Years"].append(year)
                    top_ins_columns["Quarter"].append(int(file.strip(".json")))

top_ins_df = pd.DataFrame(top_ins_columns)

top_ins_df["States"]=top_ins_df["States"].str.replace("andaman-&-nicobar-islands", "Andaman & Nicobar")
top_ins_df["States"]=top_ins_df["States"].str.replace("-", " ")
top_ins_df["States"]=top_ins_df["States"].str.title()
top_ins_df["States"]=top_ins_df["States"].str.replace("Dadra & Nagar Haveli & Daman & Diu", "Dadra and Nagar Haveli and Daman and Diu")



#Top Transaction

path8 = "D:/projects/phonepe_pulse/data/top/transaction/country/india/state/"
top_trans_list = os.listdir(path8)

top_trans_columns = {"States":[], "Years":[], "Quarter":[], "Pincode":[], "Transaction_count":[], "Transaction_amount":[]}
for state in top_trans_list:
    current_state = os.path.join(path8, state)
    top_year_list = os.listdir(current_state)
    
    for year in top_year_list:
        current_year = os.path.join(current_state, year)
        top_file_list = os.listdir(current_year)
        
        for file in top_file_list:
            if file.endswith('.json'):
                current_file = os.path.join(current_year, file)
                data = open(current_file,"r")

            file_trans_load = json.load(data)
            if file_trans_load.get('success') and file_trans_load.get('data'):
                for i in file_trans_load["data"]["pincodes"]:
                    entityname = i["entityName"]
                    count = i["metric"]["count"]
                    amount = i["metric"]["amount"]
                    top_trans_columns["Pincode"].append(entityname)
                    top_trans_columns["Transaction_count"].append(count)
                    top_trans_columns["Transaction_amount"].append(amount)
                    top_trans_columns["States"].append(state)
                    top_trans_columns["Years"].append(year)
                    top_trans_columns["Quarter"].append(int(file.strip(".json")))


top_trans_df = pd.DataFrame(top_trans_columns)

top_trans_df["States"]=top_trans_df["States"].str.replace("andaman-&-nicobar-islands", "Andaman & Nicobar")
top_trans_df["States"]=top_trans_df["States"].str.replace("-", " ")
top_trans_df["States"]=top_trans_df["States"].str.title()
top_trans_df["States"]=top_trans_df["States"].str.replace("Dadra & Nagar Haveli & Daman & Diu", "Dadra and Nagar Haveli and Daman and Diu")



#Top User

path9 = "D:/projects/phonepe_pulse/data/top/user/country/india/state/"
top_user_list = os.listdir(path9)

top_user_columns = {"States":[], "Years":[], "Quarter":[], "Pincode":[], "RegisteredUsers":[]}
for state in top_user_list:
    current_state = os.path.join(path9, state)
    top_year_list = os.listdir(current_state)
    
    for year in top_year_list:
        current_year = os.path.join(current_state, year)
        top_file_list = os.listdir(current_year)
        
        for file in top_file_list:
            if file.endswith('.json'):
                current_file = os.path.join(current_year, file)
                data = open(current_file,"r")

            file_user_load = json.load(data)
            if file_user_load.get('success') and file_user_load.get('data'):
                for i in file_user_load["data"]["pincodes"]:
                    name = i["name"]
                    registeredusers = i["registeredUsers"]
                    top_user_columns["Pincode"].append(name)
                    top_user_columns["RegisteredUsers"].append(registeredusers)
                    top_user_columns["States"].append(state)
                    top_user_columns["Years"].append(year)
                    top_user_columns["Quarter"].append(int(file.strip(".json")))


top_user_df = pd.DataFrame(top_user_columns)

top_user_df["States"]=top_user_df["States"].str.replace("andaman-&-nicobar-islands", "Andaman & Nicobar")
top_user_df["States"]=top_user_df["States"].str.replace("-", " ")
top_user_df["States"]=top_user_df["States"].str.title()
top_user_df["States"]=top_user_df["States"].str.replace("Dadra & Nagar Haveli & Daman & Diu", "Dadra and Nagar Haveli and Daman and Diu")


#SQL Connection

mydb = psycopg2.connect(host = "localhost",
                        port = "5432",
                        user = "postgres",
                        password = "karthik",
                        database = "phonepe_pulse")

cursor = mydb.cursor()


#Aggregated Transaction 

create_agg_trans_query = '''CREATE TABLE if not exists aggregated_transaction(States varchar(255),
                                                      Years int,
                                                      Quarter int,
                                                      Transaction_type varchar(255),
                                                      Transaction_count bigint,
                                                      Transaction_amount float)'''

cursor.execute(create_agg_trans_query)
mydb.commit()

insert_agg_trans_query = '''INSERT INTO aggregated_transaction (States,
                                                            Years,
                                                            Quarter,
                                                            Transaction_type,
                                                            Transaction_count,
                                                            Transaction_amount)
                                                            
                                                            values(%s,%s,%s,%s,%s,%s)'''

data = agg_trans_df.values.tolist()
cursor.executemany(insert_agg_trans_query,data)
mydb.commit()


#Aggregated User 

create_agg_user_query = '''CREATE TABLE if not exists aggregated_user(States varchar(255),
                                                      Years int,
                                                      Quarter int,
                                                      Brands varchar(255),
                                                      Transaction_count bigint,
                                                      Percentage float)'''

cursor.execute(create_agg_user_query)
mydb.commit()

insert_agg_user_query = '''INSERT INTO aggregated_user (States,
                                                        Years,
                                                        Quarter,
                                                        Brands,
                                                        Transaction_count,
                                                        Percentage)
                                                        
                                                        values(%s,%s,%s,%s,%s,%s)'''

data = agg_user_df.values.tolist()
cursor.executemany(insert_agg_user_query,data)
mydb.commit()


#Aggregated Insurance 

create_agg_ins_query = '''CREATE TABLE if not exists aggregated_insurance(States varchar(255),
                                                      Years int,
                                                      Quarter int,
                                                      Transaction_type varchar(255),
                                                      Transaction_count bigint,
                                                      Transaction_amount float)'''

cursor.execute(create_agg_ins_query)
mydb.commit()

insert_agg_ins_query = '''INSERT INTO aggregated_insurance (States,
                                                            Years,
                                                            Quarter,
                                                            Transaction_type,
                                                            Transaction_count,
                                                            Transaction_amount)
                                                            
                                                            values(%s,%s,%s,%s,%s,%s)'''

data = agg_ins_df.values.tolist()
cursor.executemany(insert_agg_ins_query,data)
mydb.commit()


#Map Transaction 

create_map_trans_query = '''CREATE TABLE if not exists map_transaction(States varchar(255),
                                                                    Years int,
                                                                    Quarter int,
                                                                    Districts varchar(255),
                                                                    Transaction_count bigint,
                                                                    Transaction_amount float)'''

cursor.execute(create_map_trans_query)
mydb.commit()

insert_map_trans_query = '''INSERT INTO map_transaction (States,
                                                    Years,
                                                    Quarter,
                                                    Districts,
                                                    Transaction_count,
                                                    Transaction_amount)
                                                    
                                                    values(%s,%s,%s,%s,%s,%s)'''

data = map_trans_df.values.tolist()
cursor.executemany(insert_map_trans_query,data)
mydb.commit()


#Map User 

create_map_user_query = '''CREATE TABLE if not exists map_user(States varchar(255),
                                                                    Years int,
                                                                    Quarter int,
                                                                    Districts varchar(255),
                                                                    RegisteredUsers bigint,
                                                                    AppOpens bigint)'''

cursor.execute(create_map_user_query)
mydb.commit()

insert_map_user_query = '''INSERT INTO map_user (States,
                                                    Years,
                                                    Quarter,
                                                    Districts,
                                                    RegisteredUsers,
                                                    AppOpens)
                                                    
                                                    values(%s,%s,%s,%s,%s,%s)'''

data = map_user_df.values.tolist()
cursor.executemany(insert_map_user_query,data)
mydb.commit()


#Map Insurance 

create_map_ins_query = '''CREATE TABLE if not exists map_insurance(States varchar(255),
                                                                    Years int,
                                                                    Quarter int,
                                                                    Districts varchar(255),
                                                                    Transaction_count bigint,
                                                                    Transaction_amount float)'''

cursor.execute(create_map_ins_query)
mydb.commit()

insert_map_ins_query = '''INSERT INTO map_insurance (States,
                                                    Years,
                                                    Quarter,
                                                    Districts,
                                                    Transaction_count,
                                                    Transaction_amount)
                                                    
                                                    values(%s,%s,%s,%s,%s,%s)'''

data = map_ins_df.values.tolist()
cursor.executemany(insert_map_ins_query,data)
mydb.commit()


#Top Insurance 

create_top_ins_query = '''CREATE TABLE if not exists top_insurance(States varchar(255),
                                                                    Years int,
                                                                    Quarter int,
                                                                    Pincode varchar(255),
                                                                    Transaction_count bigint,
                                                                    Transaction_amount float)'''

cursor.execute(create_top_ins_query)
mydb.commit()

insert_top_ins_query = '''INSERT INTO top_insurance (States,
                                                    Years,
                                                    Quarter,
                                                    Pincode,
                                                    Transaction_count,
                                                    Transaction_amount)
                                                    
                                                    values(%s,%s,%s,%s,%s,%s)'''

data = top_ins_df.values.tolist()
cursor.executemany(insert_top_ins_query,data)
mydb.commit()


#Top Transaction 

create_top_trans_query = '''CREATE TABLE if not exists top_transaction(States varchar(255),
                                                                    Years int,
                                                                    Quarter int,
                                                                    Pincode varchar(255),
                                                                    Transaction_count bigint,
                                                                    Transaction_amount float)'''

cursor.execute(create_top_trans_query)
mydb.commit()

insert_top_trans_query = '''INSERT INTO top_transaction (States,
                                                    Years,
                                                    Quarter,
                                                    Pincode,
                                                    Transaction_count,
                                                    Transaction_amount)
                                                    
                                                    values(%s,%s,%s,%s,%s,%s)'''

data = top_trans_df.values.tolist()
cursor.executemany(insert_top_trans_query,data)
mydb.commit()


#Top User 

create_top_user_query = '''CREATE TABLE if not exists top_user(States varchar(255),
                                                                    Years int,
                                                                    Quarter int,
                                                                    Pincode varchar(255),
                                                                    RegisteredUsers bigint)'''

cursor.execute(create_top_user_query)
mydb.commit()

insert_top_user_query = '''INSERT INTO top_user (States,
                                                    Years,
                                                    Quarter,
                                                    Pincode,
                                                    RegisteredUsers)
                                                    
                                                    values(%s,%s,%s,%s,%s)'''

data = top_user_df.values.tolist()
cursor.executemany(insert_top_user_query,data)
mydb.commit()

